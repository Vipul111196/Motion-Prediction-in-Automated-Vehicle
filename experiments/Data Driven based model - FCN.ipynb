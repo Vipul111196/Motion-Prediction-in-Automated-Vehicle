{
 "cells": [
  {
   "cell_type": "markdown",
   "id": "21752b6c-10ec-4964-b0ae-f29804abf1f7",
   "metadata": {},
   "source": [
    "# Motion Prediction in Automated Vehicles"
   ]
  },
  {
   "cell_type": "markdown",
   "id": "cc268928-8ef1-449c-844b-f27f3b66db46",
   "metadata": {},
   "source": [
    "### 0.1 Importing Modules"
   ]
  },
  {
   "cell_type": "code",
   "execution_count": 1,
   "id": "0c39e371",
   "metadata": {
    "jupyter": {
     "outputs_hidden": false
    },
    "pycharm": {
     "name": "#%%\n"
    }
   },
   "outputs": [
    {
     "ename": "ModuleNotFoundError",
     "evalue": "No module named 'xlsxwriter'",
     "output_type": "error",
     "traceback": [
      "\u001b[1;31m---------------------------------------------------------------------------\u001b[0m",
      "\u001b[1;31mModuleNotFoundError\u001b[0m                       Traceback (most recent call last)",
      "Cell \u001b[1;32mIn[1], line 3\u001b[0m\n\u001b[0;32m      1\u001b[0m \u001b[38;5;28;01mimport\u001b[39;00m \u001b[38;5;21;01mos\u001b[39;00m\n\u001b[0;32m      2\u001b[0m \u001b[38;5;28;01mimport\u001b[39;00m \u001b[38;5;21;01msys\u001b[39;00m\n\u001b[1;32m----> 3\u001b[0m \u001b[38;5;28;01mimport\u001b[39;00m \u001b[38;5;21;01mxlsxwriter\u001b[39;00m\n\u001b[0;32m      4\u001b[0m \u001b[38;5;28;01mfrom\u001b[39;00m \u001b[38;5;21;01msklearn\u001b[39;00m \u001b[38;5;28;01mimport\u001b[39;00m preprocessing\n\u001b[0;32m      5\u001b[0m \u001b[38;5;28;01mimport\u001b[39;00m \u001b[38;5;21;01mnumpy\u001b[39;00m \u001b[38;5;28;01mas\u001b[39;00m \u001b[38;5;21;01mnp\u001b[39;00m\n",
      "\u001b[1;31mModuleNotFoundError\u001b[0m: No module named 'xlsxwriter'"
     ]
    }
   ],
   "source": [
    "import os\n",
    "import sys\n",
    "import xlsxwriter\n",
    "from sklearn import preprocessing\n",
    "import numpy as np\n",
    "import pandas as pd\n",
    "\n",
    "print(\"Succesfully imported!!\")"
   ]
  },
  {
   "cell_type": "markdown",
   "id": "a9cb3f60",
   "metadata": {
    "pycharm": {
     "name": "#%% md\n"
    }
   },
   "source": [
    "### 0.2 Adding Local Libraries\n",
    "For this example, we've coded up some stuff to make our lifes (and maybe your's) easier. But since we didn't want to have all this arkward code hanging around in this nice little notebook, we crammed it into some regular python scripts, which can also be used in Jupyter. To take a look at this code, follow the path below:"
   ]
  },
  {
   "cell_type": "code",
   "execution_count": 2,
   "id": "13a29790",
   "metadata": {
    "jupyter": {
     "outputs_hidden": false
    },
    "pycharm": {
     "name": "#%%\n"
    }
   },
   "outputs": [],
   "source": [
    "sys.path.append('data_processing/')\n",
    "from readDataset import dataGrabber\n",
    "from preProcessing import preProcess\n",
    "from dataPreparation import dataPrepare"
   ]
  },
  {
   "cell_type": "markdown",
   "id": "dff888e4",
   "metadata": {
    "pycharm": {
     "name": "#%% md\n"
    }
   },
   "source": [
    "## 1.0 Get the Dataset Path\n",
    "To start working, we need some data. If you put the dataset to the right place, the following command will point to the dataset. "
   ]
  },
  {
   "cell_type": "code",
   "execution_count": 3,
   "id": "f4054cdf",
   "metadata": {
    "jupyter": {
     "outputs_hidden": false
    },
    "pycharm": {
     "name": "#%%\n"
    }
   },
   "outputs": [
    {
     "name": "stdout",
     "output_type": "stream",
     "text": [
      "../dataset/data/\n"
     ]
    }
   ],
   "source": [
    "dataset_path = '../dataset/data/'\n",
    "print(dataset_path)"
   ]
  },
  {
   "cell_type": "markdown",
   "id": "1c77534b",
   "metadata": {
    "pycharm": {
     "name": "#%% md\n"
    }
   },
   "source": [
    "## 2.0 Reading Data \n",
    "***(Use either 2.1 or 2.2)***\n",
    "\n",
    "Our helper function are able to read the dataset from the csv-files and introduce it into the Jupyter workspace. Please use **one of the following two options!**\n"
   ]
  },
  {
   "cell_type": "markdown",
   "id": "15ea102b",
   "metadata": {
    "pycharm": {
     "name": "#%% md\n"
    }
   },
   "source": [
    "### 2.1 Data reading with location ID\n",
    "Taking a look into the dataset, it is organized in locations with several recordings. The following will load all recordings from one location."
   ]
  },
  {
   "cell_type": "code",
   "execution_count": 4,
   "id": "0b2876ca",
   "metadata": {
    "jupyter": {
     "outputs_hidden": false
    },
    "pycharm": {
     "name": "#%%\n"
    }
   },
   "outputs": [
    {
     "data": {
      "text/plain": [
       "\"\\n# Edit to some other number to load a different dataset\\nlocations_sel = ['4']\\n\\n# Initialize data Grabber Object\\ndata_obj = dataGrabber(dataset_path)\\n\\ndata_obj.location_id = locations_sel\\ndata_obj.read_csv_with_location()\\n\\ntrack_data_raw = data_obj.get_tracks_data()\\ntrack_meta_data_raw = data_obj.get_tracksMeta_data()\\n\""
      ]
     },
     "execution_count": 4,
     "metadata": {},
     "output_type": "execute_result"
    }
   ],
   "source": [
    "\"\"\"\n",
    "# Edit to some other number to load a different dataset\n",
    "locations_sel = ['4']\n",
    "\n",
    "# Initialize data Grabber Object\n",
    "data_obj = dataGrabber(dataset_path)\n",
    "\n",
    "data_obj.location_id = locations_sel\n",
    "data_obj.read_csv_with_location()\n",
    "\n",
    "track_data_raw = data_obj.get_tracks_data()\n",
    "track_meta_data_raw = data_obj.get_tracksMeta_data()\n",
    "\"\"\""
   ]
  },
  {
   "cell_type": "markdown",
   "id": "96216a0e",
   "metadata": {
    "pycharm": {
     "name": "#%% md\n"
    }
   },
   "source": [
    "Now we created a `data_obj`, which is an \"object\". In python you can use the whole array of \"object-oriented-programming\" [(OOP)](https://en.wikipedia.org/wiki/Object-oriented_programming) concepts."
   ]
  },
  {
   "cell_type": "markdown",
   "id": "17856605",
   "metadata": {
    "pycharm": {
     "name": "#%% md\n"
    }
   },
   "source": [
    "### 2.2 Data reading with recording ID\n",
    "Alternatively, you can use the following cell to load several recordings by recording ID. The code below is \"commented out\", so if you run the cell the python interpreter doesn't read it as instructions, but as text (that usually should comment what the code does).\n",
    "If you remove the `\"\"\"` above and below the code, you can \"uncomment\" it and use it as acutal code."
   ]
  },
  {
   "cell_type": "code",
   "execution_count": 5,
   "id": "f9aacd20",
   "metadata": {
    "jupyter": {
     "outputs_hidden": false
    },
    "pycharm": {
     "name": "#%%\n"
    }
   },
   "outputs": [],
   "source": [
    "recording_id_sel = ['23']\n",
    "\n",
    "# Initialize data Grabber Object\n",
    "data_obj = dataGrabber(dataset_path)\n",
    "\n",
    "data_obj.recording_id = recording_id_sel\n",
    "data_obj.read_csv_with_recordingID()\n",
    "\n",
    "track_data_raw = data_obj.get_tracks_data()\n",
    "track_meta_data_raw = data_obj.get_tracksMeta_data()  "
   ]
  },
  {
   "cell_type": "markdown",
   "id": "d3f6b1a7",
   "metadata": {
    "pycharm": {
     "name": "#%% md\n"
    }
   },
   "source": [
    "## 3.0 Preprocessing the Data\n",
    "When working with data, it occurs that we get weird, noisy, unnecessary, large, unstructured ... chunks of excel sheets. From this starting point, it is our job to make use of this data and turn it into information.\n",
    "In our case, the dataset is at least in a given order, but we need to bring it into a nice structure to work with it. Therefore we create a `pre_process_obj` and hand it the data to extract some info first. "
   ]
  },
  {
   "cell_type": "code",
   "execution_count": 6,
   "id": "22cda410",
   "metadata": {
    "jupyter": {
     "outputs_hidden": false
    },
    "pycharm": {
     "name": "#%%\n"
    }
   },
   "outputs": [],
   "source": [
    "pre_process_obj = preProcess()\n",
    "pre_process_obj.tracks_data = track_data_raw\n",
    "pre_process_obj.tracks_meta_data = track_meta_data_raw\n",
    "pre_process_obj.recording_ids = data_obj.recording_id\n",
    "pre_process_obj.data_len = len(track_data_raw)"
   ]
  },
  {
   "cell_type": "markdown",
   "id": "fce06dc7",
   "metadata": {
    "pycharm": {
     "name": "#%% md\n"
    }
   },
   "source": [
    "### 3.1 Downsampling Data\n",
    "\n",
    "Take look at the recording files and how many MB they consume on your hard drive. Now check how much RAM your machine has. To juggle all this data constantly on your RAM might be impossible for your machine (most likely) or it is possible and you should overthink your priorities in life.\n",
    "Nonetheless, you don't need all your data to make nice prediction! More often than not, it is totally sufficient to use every $k$-th piece of data. The important thing to keep in mind is that you shouldn't make important **information** or **characteristics** of your data disappear. How do you know when this happens? You don't. At least you do not know for general data. For a specific subclass there exists the famous [Nyquist–Shannon sampling theorem](https://en.wikipedia.org/wiki/Nyquist%E2%80%93Shannon_sampling_theorem). Maybe you can lend some intuition of that idea to get the picture right."
   ]
  },
  {
   "cell_type": "markdown",
   "id": "9cc27709-7dee-4937-9da5-82c4e3d58ad5",
   "metadata": {},
   "source": [
    "See how many pieces of data you should skip to fit the requirements. Besides that, play around with the volume of data:\n",
    "- What's the minimum frame rate you can get away with to make a nice prediction?\n",
    "- What's the maximum frame rate your PC can handle?"
   ]
  },
  {
   "cell_type": "code",
   "execution_count": 7,
   "id": "11dc6292",
   "metadata": {
    "jupyter": {
     "outputs_hidden": false
    },
    "pycharm": {
     "name": "#%%\n"
    }
   },
   "outputs": [],
   "source": [
    "# Define the number of frames to be skipped + 1 => here 4 frames are skipped so 4+1 = 5\n",
    "\n",
    "pre_process_obj.frames_skipped = 5\n",
    "track_data_downsampled, tracks_meta_data = pre_process_obj.get_down_sampled_data()\n",
    "pre_process_obj.tracks_data = track_data_downsampled"
   ]
  },
  {
   "cell_type": "code",
   "execution_count": 8,
   "id": "01355f4f",
   "metadata": {
    "jupyter": {
     "outputs_hidden": false
    },
    "pycharm": {
     "name": "#%%\n"
    }
   },
   "outputs": [
    {
     "data": {
      "text/plain": [
       "array([    0,     5,    10, ..., 31585, 31590, 31595], dtype=int64)"
      ]
     },
     "execution_count": 8,
     "metadata": {},
     "output_type": "execute_result"
    }
   ],
   "source": [
    "pd.unique(track_data_downsampled[\"frame\"])"
   ]
  },
  {
   "cell_type": "code",
   "execution_count": 9,
   "id": "eb64e8c1",
   "metadata": {
    "jupyter": {
     "outputs_hidden": false
    },
    "pycharm": {
     "name": "#%%\n"
    }
   },
   "outputs": [],
   "source": [
    "DATA_DRIVEN_PREDICTION = True"
   ]
  },
  {
   "cell_type": "markdown",
   "id": "61f8aa65",
   "metadata": {
    "pycharm": {
     "name": "#%% md\n"
    }
   },
   "source": [
    "### 3.3 For Data-Driven Prediction Models\n",
    "\n",
    "The following steps are specific to data-driven prediction models."
   ]
  },
  {
   "cell_type": "markdown",
   "id": "0f3c9bd9",
   "metadata": {
    "pycharm": {
     "name": "#%% md\n"
    }
   },
   "source": [
    "### 3.3.1 Label Encoding\n",
    "Since the dataset contains alphabetical datatypes we need to cast them into numerical datatypes, since we want to process it mathematically. A common way to achieve this, is to \"encode\" \"classes\" as \"integer\" values."
   ]
  },
  {
   "cell_type": "code",
   "execution_count": 10,
   "id": "f02a583a",
   "metadata": {
    "jupyter": {
     "outputs_hidden": false
    },
    "pycharm": {
     "name": "#%%\n"
    }
   },
   "outputs": [
    {
     "name": "stdout",
     "output_type": "stream",
     "text": [
      "Labels Encoded\n",
      "0 : bicycle\n",
      "1 : car\n",
      "2 : pedestrian\n",
      "3 : truck_bus\n"
     ]
    }
   ],
   "source": [
    "if DATA_DRIVEN_PREDICTION:\n",
    "    pre_process_obj.label_encoding()\n",
    "    pre_process_obj.print_label_encoder_classes()"
   ]
  },
  {
   "cell_type": "markdown",
   "id": "7beb09ca",
   "metadata": {
    "pycharm": {
     "name": "#%% md\n"
    },
    "tags": []
   },
   "source": [
    "### 3.3.2 Normalizing data between 0 and 1\n",
    "To understand this step, I want you to refer to my youtube channel, where we've put together a nice playlist, with some background information about machine learning, motion prediction, python, jupyter notebooks and all that good stuff. Watch the linked video first!\n",
    "\n",
    "Smash that like-button, subscribe and ring the bell and so on...!\n",
    "\n",
    "[![](pictures_main/scalingYouTube.png)](https://www.youtube.com/watch?v=Y7m9MyPxcyQ&list=PLZ6Q6guexAFO_gbbxjxrNVrFx0zgIbmyN&index=24)"
   ]
  },
  {
   "cell_type": "markdown",
   "id": "19519aea",
   "metadata": {
    "pycharm": {
     "name": "#%% md\n"
    }
   },
   "source": [
    "## \"min_max_scalar_list\" order:"
   ]
  },
  {
   "cell_type": "markdown",
   "id": "ac06f045",
   "metadata": {
    "pycharm": {
     "name": "#%% md\n"
    }
   },
   "source": [
    "```\n",
    "Useful for inverse transform\n",
    "        0: 'xCenter',   1: 'yCenter',       2: 'heading',       3: 'width',       4: 'length', 5: 'xVelocity',\n",
    "        6: 'yVelocity', 7: 'xAcceleration', 8: 'yAcceleration', 9: 'lonVelocity', 10: 'latVelocity', \n",
    "       11:'lonAcceleration',  \n",
    "       12:'latAcceleration'\n",
    "           To USE: min_max_scalar_list[0] .... etc \n",
    "```"
   ]
  },
  {
   "cell_type": "code",
   "execution_count": 11,
   "id": "938a1f81",
   "metadata": {
    "jupyter": {
     "outputs_hidden": false
    },
    "pycharm": {
     "name": "#%%\n"
    }
   },
   "outputs": [],
   "source": [
    " if DATA_DRIVEN_PREDICTION:\n",
    "    # Gets the tracks data normalized\n",
    "    tracks_data_norm, min_max_scalar_list = pre_process_obj.normalize_data()"
   ]
  },
  {
   "cell_type": "markdown",
   "id": "de49e989",
   "metadata": {
    "pycharm": {
     "name": "#%% md\n"
    },
    "tags": []
   },
   "source": [
    "## 4.0 Preparing Data for Training and Testing\n",
    "Our prediction function should receive some chunks of data from the past $x$ and should predict the output $y$. From the dataset, we know which $y$ should be predicted based on each $x$. So at time step $t_i$ we need to know our current data point $x_i$ (could be position or velocity or whatever) and some history of data points $x_{i-1} \\dots x_{i-N_{past}}\\,$  from the time steps before. ![](pictures_main/slidingWindow.png)\n",
    "*Fig: Sliding Window on a time series*\n",
    "\n",
    "When training a neural network, we want to approximate a function $f( \\,)$ that maps our inputs $x$ to our outputs $y$\n",
    "$$\\large{y} = \\large{f} \\big(\n",
    "        \\begin{bmatrix}\n",
    "            \\mathbf{x_1}^T  & \n",
    "            \\mathbf{x_2}^T & \n",
    "            \\mathbf{\\dots} &\n",
    "            \\mathbf{x_n}^T &\n",
    "        \\end{bmatrix}\n",
    "    \\big)$$\n",
    "    \n",
    "[![](pictures_main/NeuralNetworkYouTube.png)](https://www.youtube.com/watch?v=aircAruvnKk&list=PLZ6Q6guexAFO_gbbxjxrNVrFx0zgIbmyN&index=2)\n",
    "    \n",
    "Therefore, we first need to know how our predictions $y$ should look like, so our training process is able to know how well the desired function is approximated. So in this case, we also have to grab the future values $x_{i+1} \\dots x_{i+N_{future}}\\,$ to declare them as output values $y_{i+1} \\dots y_{i+N_{future}}\\,$.\n",
    "![](pictures_main/slidingWindow_Y.png)\n",
    "*Fig: Sliding Window with inputs and outputs with $N_{past}$ = 3, $N_{future}$ = 2*\n",
    "\n",
    "We need to do that anyway, because in the end, we need to evaluate how well we did with our prediction and therefore we will predict $\\hat{y}_{i+1} \\dots \\hat{y}_{i+N_{future}}\\,$ and need to compare this with the actual $y_{i+1} \\dots y_{i+N_{future}}\\,$."
   ]
  },
  {
   "cell_type": "markdown",
   "id": "1d26186f",
   "metadata": {
    "pycharm": {
     "name": "#%% md\n"
    }
   },
   "source": [
    "### 4.1 Loading Data\n",
    "First, we hand all the necessary data about the data to the object."
   ]
  },
  {
   "cell_type": "code",
   "execution_count": 12,
   "id": "59726820",
   "metadata": {
    "jupyter": {
     "outputs_hidden": false
    },
    "pycharm": {
     "name": "#%%\n"
    }
   },
   "outputs": [],
   "source": [
    "if DATA_DRIVEN_PREDICTION:\n",
    "    # Resetting dropped frames index\n",
    "    tracks_data_norm = tracks_data_norm.reset_index(drop=True)\n",
    "    \n",
    "    data_prepare_obj = dataPrepare()\n",
    "    data_prepare_obj.tracks_data_norm = tracks_data_norm\n",
    "    data_prepare_obj.tracksMeta_data = tracks_meta_data\n",
    "    data_prepare_obj.data_len = len(tracks_data_norm)"
   ]
  },
  {
   "cell_type": "markdown",
   "id": "3f2bd2f9",
   "metadata": {
    "pycharm": {
     "name": "#%% md\n"
    }
   },
   "source": [
    "### 4.2 Splitting Data"
   ]
  },
  {
   "cell_type": "markdown",
   "id": "0d273f4b",
   "metadata": {
    "pycharm": {
     "name": "#%% md\n"
    }
   },
   "source": [
    "With its function `data_stacking()` the `data_prepare_obj` grabs the vectors from our time series in this sliding window fashion. Additionally, it stacks all the obtained sequences underneath each other in a single vector. Also additionally, it splits the final huge vector into a set of \"training\" data and \"validation\" data."
   ]
  },
  {
   "cell_type": "code",
   "execution_count": 13,
   "id": "d3ecf6c4",
   "metadata": {
    "jupyter": {
     "outputs_hidden": false
    },
    "pycharm": {
     "name": "#%%\n"
    }
   },
   "outputs": [
    {
     "name": "stdout",
     "output_type": "stream",
     "text": [
      "This might take a while!\n",
      "Current progress: 0.0 %\n",
      "Current progress: 1.01 %\n",
      "Current progress: 2.02 %\n",
      "Current progress: 3.03 %\n",
      "Current progress: 4.04 %\n",
      "Current progress: 5.05 %\n",
      "Current progress: 6.06 %\n",
      "Current progress: 7.07 %\n",
      "Current progress: 8.08 %\n",
      "Current progress: 9.09 %\n",
      "Current progress: 10.1 %\n",
      "Current progress: 11.11 %\n",
      "Current progress: 12.12 %\n",
      "Current progress: 13.13 %\n",
      "Current progress: 14.14 %\n",
      "Current progress: 15.15 %\n",
      "Current progress: 16.16 %\n",
      "Current progress: 17.17 %\n",
      "Current progress: 18.18 %\n",
      "Current progress: 19.19 %\n",
      "Current progress: 20.2 %\n",
      "Current progress: 21.21 %\n",
      "Current progress: 22.22 %\n",
      "Current progress: 23.23 %\n",
      "Current progress: 24.24 %\n",
      "Current progress: 25.25 %\n",
      "Current progress: 26.26 %\n",
      "Current progress: 27.27 %\n",
      "Current progress: 28.28 %\n",
      "Current progress: 29.29 %\n",
      "Current progress: 30.3 %\n",
      "Current progress: 31.31 %\n",
      "Current progress: 32.32 %\n",
      "Current progress: 33.33 %\n",
      "Current progress: 34.34 %\n",
      "Current progress: 35.35 %\n",
      "Current progress: 36.36 %\n",
      "Current progress: 37.37 %\n",
      "Current progress: 38.38 %\n",
      "Current progress: 39.39 %\n",
      "Current progress: 40.4 %\n",
      "Current progress: 41.41 %\n",
      "Current progress: 42.42 %\n",
      "Current progress: 43.43 %\n",
      "Current progress: 44.44 %\n",
      "Current progress: 45.45 %\n",
      "Current progress: 46.46 %\n",
      "Current progress: 47.47 %\n",
      "Current progress: 48.48 %\n",
      "Current progress: 49.49 %\n",
      "Current progress: 50.51 %\n",
      "Current progress: 51.52 %\n",
      "Current progress: 52.53 %\n",
      "Current progress: 53.54 %\n",
      "Current progress: 54.55 %\n",
      "Current progress: 55.56 %\n",
      "Current progress: 56.57 %\n",
      "Current progress: 57.58 %\n",
      "Current progress: 58.59 %\n",
      "Current progress: 59.6 %\n",
      "Current progress: 60.61 %\n",
      "Current progress: 61.62 %\n",
      "Current progress: 62.63 %\n",
      "Current progress: 63.64 %\n",
      "Current progress: 64.65 %\n",
      "Current progress: 65.66 %\n",
      "Current progress: 66.67 %\n",
      "Current progress: 67.68 %\n",
      "Current progress: 68.69 %\n",
      "Current progress: 69.7 %\n",
      "Current progress: 70.71 %\n",
      "Current progress: 71.72 %\n",
      "Current progress: 72.73 %\n",
      "Current progress: 73.74 %\n",
      "Current progress: 74.75 %\n",
      "Current progress: 75.76 %\n",
      "Current progress: 76.77 %\n",
      "Current progress: 77.78 %\n",
      "Current progress: 78.79 %\n",
      "Current progress: 79.8 %\n",
      "Current progress: 80.81 %\n",
      "Current progress: 81.82 %\n",
      "Current progress: 82.83 %\n",
      "Current progress: 83.84 %\n",
      "Current progress: 84.85 %\n",
      "Current progress: 85.86 %\n",
      "Current progress: 86.87 %\n",
      "Current progress: 87.88 %\n",
      "Current progress: 88.89 %\n",
      "Current progress: 89.9 %\n",
      "Current progress: 90.91 %\n",
      "Current progress: 91.92 %\n",
      "Current progress: 92.93 %\n",
      "Current progress: 93.94 %\n",
      "Current progress: 94.95 %\n",
      "Current progress: 95.96 %\n",
      "Current progress: 96.97 %\n",
      "Current progress: 97.98 %\n",
      "Current progress: 98.99 %\n",
      "Current progress: 100.0 %\n",
      "Done! \n"
     ]
    }
   ],
   "source": [
    "if DATA_DRIVEN_PREDICTION:\n",
    "    # Number for track id to be used\n",
    "    data_prepare_obj.track_id_range = 100\n",
    "    \n",
    "    data_prepare_obj.data_input = \"normalized_data\"\n",
    "    xTrain_data, xTest_data, yTrain_data, yTest_data = data_prepare_obj.get_test_train_split()"
   ]
  },
  {
   "cell_type": "markdown",
   "id": "d4af9d10",
   "metadata": {
    "pycharm": {
     "name": "#%% md\n"
    },
    "tags": []
   },
   "source": [
    "This concept of splitting the data into different parts is very important with regard to \"overfitting\". To get a bit of visual intuition, enjoy another video:\n",
    "[![](pictures_main/splitDataYouTube.png)](https://www.youtube.com/watch?v=77jUW9IoooM&list=PLZ6Q6guexAFO_gbbxjxrNVrFx0zgIbmyN&index=27&t=868s)"
   ]
  },
  {
   "cell_type": "markdown",
   "id": "146ee7bb",
   "metadata": {
    "pycharm": {
     "name": "#%% md\n"
    }
   },
   "source": [
    "### 4.3  Save Train, Test, Scalars in Pickle Files\n",
    "Here we use pickle library to save and load test data"
   ]
  },
  {
   "cell_type": "code",
   "execution_count": 14,
   "id": "f91a7490",
   "metadata": {
    "jupyter": {
     "outputs_hidden": false
    },
    "pycharm": {
     "name": "#%%\n"
    }
   },
   "outputs": [],
   "source": [
    "SAVE_PICKLE_FLAG = False\n",
    "OPEN_PICKLE_FLAG = False\n",
    "if DATA_DRIVEN_PREDICTION and SAVE_PICKLE_FLAG:\n",
    "    # Save the xTrain, xTest, yTrain, xTest in pickle format\n",
    "    data_prepare_obj.save_test_train_data_pickle()\n",
    "if DATA_DRIVEN_PREDICTION and OPEN_PICKLE_FLAG:\n",
    "    # Load the xTrain, xTest, yTrain, xTest from a pickle format\n",
    "    data_prepare_obj.load_test_train_data_pickle()"
   ]
  },
  {
   "cell_type": "markdown",
   "id": "5c521fcd",
   "metadata": {
    "pycharm": {
     "name": "#%% md\n"
    }
   },
   "source": [
    "## 5.0 Prediction Models\n",
    "\n",
    "In this section you can introduce prepared predictions models from the folder `/prediction_models`. Prepare your own model there and load it into this file."
   ]
  },
  {
   "cell_type": "markdown",
   "id": "a67bfc04",
   "metadata": {
    "pycharm": {
     "name": "#%% md\n"
    }
   },
   "source": [
    "### 5.3 Neural Network Models\n",
    "Take a look into the python file to see what is going on there!"
   ]
  },
  {
   "cell_type": "code",
   "execution_count": 15,
   "id": "0dc31fae",
   "metadata": {
    "jupyter": {
     "outputs_hidden": false
    },
    "pycharm": {
     "name": "#%%\n"
    }
   },
   "outputs": [],
   "source": [
    "sys.path.append('prediction_models/neural_networks/')\n",
    "from fcn_keras_model import FCN_keras_model"
   ]
  },
  {
   "cell_type": "code",
   "execution_count": 16,
   "id": "4f95bc7e",
   "metadata": {
    "jupyter": {
     "outputs_hidden": false
    },
    "pycharm": {
     "name": "#%%\n"
    }
   },
   "outputs": [
    {
     "name": "stdout",
     "output_type": "stream",
     "text": [
      "Epoch 1/100\n",
      "2571/2571 [==============================] - 11s 4ms/step - loss: 0.0024 - val_loss: 0.0022\n",
      "Epoch 2/100\n",
      "2571/2571 [==============================] - 10s 4ms/step - loss: 5.0902e-04 - val_loss: 4.7399e-04\n",
      "Epoch 3/100\n",
      "2571/2571 [==============================] - 10s 4ms/step - loss: 4.6502e-04 - val_loss: 4.0161e-04\n",
      "Epoch 4/100\n",
      "2571/2571 [==============================] - 10s 4ms/step - loss: 4.4680e-04 - val_loss: 4.0988e-04\n",
      "Epoch 5/100\n",
      "2571/2571 [==============================] - 10s 4ms/step - loss: 4.2243e-04 - val_loss: 4.6500e-04\n",
      "Epoch 6/100\n",
      "2571/2571 [==============================] - 10s 4ms/step - loss: 4.0174e-04 - val_loss: 4.6135e-04\n",
      "Epoch 7/100\n",
      "2571/2571 [==============================] - 10s 4ms/step - loss: 3.9284e-04 - val_loss: 3.7409e-04\n",
      "Epoch 8/100\n",
      "2571/2571 [==============================] - 10s 4ms/step - loss: 3.7917e-04 - val_loss: 3.5724e-04\n",
      "Epoch 9/100\n",
      "2571/2571 [==============================] - 11s 4ms/step - loss: 3.7162e-04 - val_loss: 5.1129e-04\n",
      "Epoch 10/100\n",
      "2571/2571 [==============================] - 10s 4ms/step - loss: 3.5966e-04 - val_loss: 3.3818e-04\n",
      "Epoch 11/100\n",
      "2571/2571 [==============================] - 10s 4ms/step - loss: 3.5025e-04 - val_loss: 3.4384e-04\n",
      "Epoch 12/100\n",
      "2571/2571 [==============================] - 10s 4ms/step - loss: 3.5118e-04 - val_loss: 3.3401e-04\n",
      "Epoch 13/100\n",
      "2571/2571 [==============================] - 10s 4ms/step - loss: 3.4274e-04 - val_loss: 3.7692e-04\n",
      "Epoch 14/100\n",
      "2571/2571 [==============================] - 10s 4ms/step - loss: 3.3941e-04 - val_loss: 4.1921e-04\n",
      "Epoch 15/100\n",
      "2571/2571 [==============================] - 10s 4ms/step - loss: 3.3642e-04 - val_loss: 3.3552e-04\n",
      "Epoch 16/100\n",
      "2571/2571 [==============================] - 10s 4ms/step - loss: 3.3187e-04 - val_loss: 3.2033e-04\n",
      "Epoch 17/100\n",
      "2571/2571 [==============================] - 10s 4ms/step - loss: 3.2585e-04 - val_loss: 3.4892e-04\n",
      "Epoch 18/100\n",
      "2571/2571 [==============================] - 10s 4ms/step - loss: 3.2655e-04 - val_loss: 3.3191e-04\n",
      "Epoch 19/100\n",
      "2571/2571 [==============================] - 10s 4ms/step - loss: 3.2660e-04 - val_loss: 3.6367e-04\n",
      "Epoch 20/100\n",
      "2571/2571 [==============================] - 10s 4ms/step - loss: 3.2054e-04 - val_loss: 3.4805e-04\n",
      "Epoch 21/100\n",
      "2571/2571 [==============================] - 10s 4ms/step - loss: 3.1567e-04 - val_loss: 3.5905e-04\n",
      "Epoch 22/100\n",
      "2571/2571 [==============================] - 10s 4ms/step - loss: 3.1312e-04 - val_loss: 2.9449e-04\n",
      "Epoch 23/100\n",
      "2571/2571 [==============================] - 10s 4ms/step - loss: 3.2005e-04 - val_loss: 3.0746e-04\n",
      "Epoch 24/100\n",
      "2571/2571 [==============================] - 10s 4ms/step - loss: 3.1514e-04 - val_loss: 3.7570e-04\n",
      "Epoch 25/100\n",
      "2571/2571 [==============================] - 10s 4ms/step - loss: 3.1309e-04 - val_loss: 3.0191e-04\n",
      "Epoch 26/100\n",
      "2571/2571 [==============================] - 10s 4ms/step - loss: 3.0255e-04 - val_loss: 2.6673e-04\n",
      "Epoch 27/100\n",
      "2571/2571 [==============================] - 10s 4ms/step - loss: 3.0111e-04 - val_loss: 3.7762e-04\n",
      "Epoch 28/100\n",
      "2571/2571 [==============================] - 10s 4ms/step - loss: 2.9652e-04 - val_loss: 2.9286e-04\n",
      "Epoch 29/100\n",
      "2571/2571 [==============================] - 10s 4ms/step - loss: 3.0429e-04 - val_loss: 2.7389e-04\n",
      "Epoch 30/100\n",
      "2571/2571 [==============================] - 10s 4ms/step - loss: 2.9405e-04 - val_loss: 2.9632e-04\n",
      "Epoch 31/100\n",
      "2571/2571 [==============================] - 10s 4ms/step - loss: 2.9943e-04 - val_loss: 3.0177e-04\n",
      "Epoch 32/100\n",
      "2571/2571 [==============================] - 10s 4ms/step - loss: 2.8560e-04 - val_loss: 3.0281e-04\n",
      "Epoch 33/100\n",
      "2571/2571 [==============================] - 10s 4ms/step - loss: 2.8423e-04 - val_loss: 2.7669e-04\n",
      "Epoch 34/100\n",
      "2571/2571 [==============================] - 10s 4ms/step - loss: 2.8268e-04 - val_loss: 2.9209e-04\n",
      "Epoch 35/100\n",
      "2571/2571 [==============================] - 10s 4ms/step - loss: 2.9152e-04 - val_loss: 2.8780e-04\n",
      "Epoch 36/100\n",
      "2571/2571 [==============================] - 10s 4ms/step - loss: 2.8631e-04 - val_loss: 2.8031e-04\n",
      "Epoch 37/100\n",
      "2571/2571 [==============================] - 10s 4ms/step - loss: 2.8027e-04 - val_loss: 2.5681e-04\n",
      "Epoch 38/100\n",
      "2571/2571 [==============================] - 10s 4ms/step - loss: 2.7091e-04 - val_loss: 3.0945e-04\n",
      "Epoch 39/100\n",
      "2571/2571 [==============================] - 10s 4ms/step - loss: 2.7993e-04 - val_loss: 3.7771e-04\n",
      "Epoch 40/100\n",
      "2571/2571 [==============================] - 9s 4ms/step - loss: 2.6944e-04 - val_loss: 2.5878e-04\n",
      "Epoch 41/100\n",
      "2571/2571 [==============================] - 9s 4ms/step - loss: 2.6248e-04 - val_loss: 2.3528e-04\n",
      "Epoch 42/100\n",
      "2571/2571 [==============================] - 9s 4ms/step - loss: 2.7319e-04 - val_loss: 2.5742e-04\n",
      "Epoch 43/100\n",
      "2571/2571 [==============================] - 9s 4ms/step - loss: 2.6588e-04 - val_loss: 2.8318e-04\n",
      "Epoch 44/100\n",
      "2571/2571 [==============================] - 9s 4ms/step - loss: 2.7543e-04 - val_loss: 3.2919e-04\n",
      "Epoch 45/100\n",
      "2571/2571 [==============================] - 9s 4ms/step - loss: 2.7443e-04 - val_loss: 2.6771e-04\n",
      "Epoch 46/100\n",
      "2571/2571 [==============================] - 9s 4ms/step - loss: 2.5928e-04 - val_loss: 2.9169e-04\n",
      "Epoch 47/100\n",
      "2571/2571 [==============================] - 9s 4ms/step - loss: 2.5825e-04 - val_loss: 3.1784e-04\n",
      "Epoch 48/100\n",
      "2571/2571 [==============================] - 9s 4ms/step - loss: 2.5339e-04 - val_loss: 2.4379e-04\n",
      "Epoch 49/100\n",
      "2571/2571 [==============================] - 9s 4ms/step - loss: 2.5518e-04 - val_loss: 2.1027e-04\n",
      "Epoch 50/100\n",
      "2571/2571 [==============================] - 9s 4ms/step - loss: 2.6007e-04 - val_loss: 3.3037e-04\n",
      "Epoch 51/100\n",
      "2571/2571 [==============================] - 9s 4ms/step - loss: 2.3866e-04 - val_loss: 1.7697e-04\n",
      "Epoch 52/100\n",
      "2571/2571 [==============================] - 9s 4ms/step - loss: 2.3817e-04 - val_loss: 2.1822e-04\n",
      "Epoch 53/100\n",
      "2571/2571 [==============================] - 9s 4ms/step - loss: 2.4398e-04 - val_loss: 2.5479e-04\n",
      "Epoch 54/100\n",
      "2571/2571 [==============================] - 9s 4ms/step - loss: 2.2734e-04 - val_loss: 2.0102e-04\n",
      "Epoch 55/100\n",
      "2571/2571 [==============================] - 9s 4ms/step - loss: 2.5917e-04 - val_loss: 2.7224e-04\n",
      "Epoch 56/100\n",
      "2571/2571 [==============================] - 9s 4ms/step - loss: 2.3984e-04 - val_loss: 2.1852e-04\n",
      "Epoch 57/100\n",
      "2571/2571 [==============================] - 9s 4ms/step - loss: 2.2320e-04 - val_loss: 2.1619e-04\n",
      "Epoch 58/100\n",
      "2571/2571 [==============================] - 9s 4ms/step - loss: 2.3744e-04 - val_loss: 2.2099e-04\n",
      "Epoch 59/100\n",
      "2571/2571 [==============================] - 9s 4ms/step - loss: 2.3899e-04 - val_loss: 2.5709e-04\n",
      "Epoch 60/100\n",
      "2571/2571 [==============================] - 9s 4ms/step - loss: 2.3102e-04 - val_loss: 2.4353e-04\n",
      "Epoch 61/100\n",
      "2571/2571 [==============================] - 9s 4ms/step - loss: 2.5147e-04 - val_loss: 2.1716e-04\n",
      "Epoch 62/100\n",
      "2571/2571 [==============================] - 9s 4ms/step - loss: 2.3691e-04 - val_loss: 2.4282e-04\n",
      "Epoch 63/100\n",
      "2571/2571 [==============================] - 9s 4ms/step - loss: 2.1859e-04 - val_loss: 2.2580e-04\n",
      "Epoch 64/100\n",
      "2571/2571 [==============================] - 10s 4ms/step - loss: 2.2995e-04 - val_loss: 2.1486e-04\n",
      "Epoch 65/100\n",
      "2571/2571 [==============================] - 9s 4ms/step - loss: 2.2514e-04 - val_loss: 2.5862e-04\n",
      "Epoch 66/100\n",
      "2571/2571 [==============================] - 9s 4ms/step - loss: 2.2098e-04 - val_loss: 2.3197e-04\n",
      "Epoch 67/100\n",
      "2571/2571 [==============================] - 9s 4ms/step - loss: 2.3304e-04 - val_loss: 2.4937e-04\n",
      "Epoch 68/100\n",
      "2571/2571 [==============================] - 9s 4ms/step - loss: 2.1300e-04 - val_loss: 2.0515e-04\n",
      "Epoch 69/100\n",
      "2571/2571 [==============================] - 9s 4ms/step - loss: 2.5325e-04 - val_loss: 1.7611e-04\n",
      "Epoch 70/100\n",
      "2571/2571 [==============================] - 9s 4ms/step - loss: 2.2626e-04 - val_loss: 3.2860e-04\n",
      "Epoch 71/100\n",
      "2571/2571 [==============================] - 10s 4ms/step - loss: 2.2752e-04 - val_loss: 2.1694e-04\n",
      "Epoch 72/100\n",
      "2571/2571 [==============================] - 10s 4ms/step - loss: 2.3040e-04 - val_loss: 2.0138e-04\n",
      "Epoch 73/100\n",
      "2571/2571 [==============================] - 10s 4ms/step - loss: 2.1562e-04 - val_loss: 1.8874e-04\n"
     ]
    },
    {
     "name": "stdout",
     "output_type": "stream",
     "text": [
      "Epoch 74/100\n",
      "2571/2571 [==============================] - 10s 4ms/step - loss: 2.1824e-04 - val_loss: 2.6573e-04\n",
      "Epoch 75/100\n",
      "2571/2571 [==============================] - 9s 4ms/step - loss: 2.1758e-04 - val_loss: 2.1412e-04\n",
      "Epoch 76/100\n",
      "2571/2571 [==============================] - 9s 4ms/step - loss: 2.0591e-04 - val_loss: 1.9230e-04\n",
      "Epoch 77/100\n",
      "2571/2571 [==============================] - 10s 4ms/step - loss: 1.9447e-04 - val_loss: 3.4656e-04\n",
      "Epoch 78/100\n",
      "2571/2571 [==============================] - 12s 5ms/step - loss: 2.2555e-04 - val_loss: 1.9504e-04\n",
      "Epoch 79/100\n",
      "2571/2571 [==============================] - 13s 5ms/step - loss: 2.0395e-04 - val_loss: 2.4144e-04\n",
      "Epoch 80/100\n",
      "2571/2571 [==============================] - 10s 4ms/step - loss: 2.1241e-04 - val_loss: 2.0435e-04\n",
      "Epoch 81/100\n",
      "2571/2571 [==============================] - 10s 4ms/step - loss: 2.3135e-04 - val_loss: 2.3277e-04\n",
      "Epoch 82/100\n",
      "2571/2571 [==============================] - 10s 4ms/step - loss: 2.1254e-04 - val_loss: 2.4923e-04\n",
      "Epoch 83/100\n",
      "2571/2571 [==============================] - 11s 4ms/step - loss: 2.1390e-04 - val_loss: 2.5784e-04\n",
      "Epoch 84/100\n",
      "2571/2571 [==============================] - 9s 4ms/step - loss: 2.0656e-04 - val_loss: 1.7712e-04\n",
      "Epoch 85/100\n",
      "2571/2571 [==============================] - 9s 4ms/step - loss: 2.0884e-04 - val_loss: 2.1117e-04\n",
      "Epoch 86/100\n",
      "2571/2571 [==============================] - 10s 4ms/step - loss: 1.9921e-04 - val_loss: 2.1047e-04\n",
      "Epoch 87/100\n",
      "2571/2571 [==============================] - 9s 4ms/step - loss: 2.0235e-04 - val_loss: 2.3865e-04\n",
      "Epoch 88/100\n",
      "2571/2571 [==============================] - 9s 4ms/step - loss: 2.1138e-04 - val_loss: 1.7598e-04\n",
      "Epoch 89/100\n",
      "2571/2571 [==============================] - 9s 4ms/step - loss: 2.0647e-04 - val_loss: 1.7517e-04\n",
      "Epoch 90/100\n",
      "2571/2571 [==============================] - 9s 4ms/step - loss: 2.0826e-04 - val_loss: 2.3773e-04\n",
      "Epoch 91/100\n",
      "2571/2571 [==============================] - 10s 4ms/step - loss: 1.9645e-04 - val_loss: 1.8227e-04\n",
      "Epoch 92/100\n",
      "2571/2571 [==============================] - 9s 4ms/step - loss: 2.1491e-04 - val_loss: 2.0009e-04\n",
      "Epoch 93/100\n",
      "2571/2571 [==============================] - 9s 4ms/step - loss: 1.9466e-04 - val_loss: 1.6754e-04\n",
      "Epoch 94/100\n",
      "2571/2571 [==============================] - 9s 4ms/step - loss: 2.0478e-04 - val_loss: 1.8729e-04\n",
      "Epoch 95/100\n",
      "2571/2571 [==============================] - 9s 4ms/step - loss: 1.8508e-04 - val_loss: 2.2533e-04\n",
      "Epoch 96/100\n",
      "2571/2571 [==============================] - 9s 4ms/step - loss: 2.0927e-04 - val_loss: 2.4836e-04\n",
      "Epoch 97/100\n",
      "2571/2571 [==============================] - 9s 4ms/step - loss: 2.1052e-04 - val_loss: 1.9453e-04\n",
      "Epoch 98/100\n",
      "2571/2571 [==============================] - 9s 4ms/step - loss: 1.7817e-04 - val_loss: 1.7400e-04\n",
      "Epoch 99/100\n",
      "2571/2571 [==============================] - 9s 4ms/step - loss: 2.0243e-04 - val_loss: 3.4504e-04\n",
      "Epoch 100/100\n",
      "2571/2571 [==============================] - 9s 4ms/step - loss: 2.0483e-04 - val_loss: 1.6695e-04\n"
     ]
    },
    {
     "data": {
      "image/png": "[encoded data removed]",
      "text/plain": [
       "<Figure size 432x288 with 1 Axes>"
      ]
     },
     "metadata": {
      "needs_background": "light"
     },
     "output_type": "display_data"
    }
   ],
   "source": [
    "if DATA_DRIVEN_PREDICTION:\n",
    "    FCN_model =  FCN_keras_model(xTrain_data, xTest_data, yTrain_data, yTest_data)"
   ]
  },
  {
   "cell_type": "markdown",
   "id": "89d2a5d6",
   "metadata": {
    "pycharm": {
     "name": "#%% md\n"
    }
   },
   "source": [
    "# 6.0 Prediction Testing\n",
    "To see how well we did we need to use our model to make predictions. At the end of this section we want to write the data into an excel sheet. This excel sheet is needed to evaluate your predictions in a standardized fashion (important for the competition).\n",
    "Now we need to generate predictions and compare it to the ground truth - what actually happened."
   ]
  },
  {
   "cell_type": "markdown",
   "id": "15dd5855",
   "metadata": {
    "pycharm": {
     "name": "#%% md\n"
    }
   },
   "source": [
    "## 6.1 Generate Testset Data\n",
    "First we produce some predictions."
   ]
  },
  {
   "cell_type": "markdown",
   "id": "acb2b106",
   "metadata": {
    "pycharm": {
     "name": "#%% md\n"
    }
   },
   "source": [
    "## 6.1.2 For Data Driven Prediction"
   ]
  },
  {
   "cell_type": "code",
   "execution_count": 17,
   "id": "4dfb74c7-8ef9-4069-b697-3c9ac81f160d",
   "metadata": {
    "jupyter": {
     "outputs_hidden": false
    },
    "pycharm": {
     "name": "#%%\n"
    }
   },
   "outputs": [],
   "source": [
    "if DATA_DRIVEN_PREDICTION:   \n",
    "    recording_id_sel = ['28']\n",
    "    data_sel_id = 0 # If there are multiple recordings added\n",
    "    \n",
    "    # Initialize data Grabber Object\n",
    "    test_data_obj = dataGrabber(dataset_path)\n",
    "\n",
    "    test_data_obj.recording_id = recording_id_sel\n",
    "    test_data_obj.read_csv_with_recordingID()\n",
    "\n",
    "    test_track_data = test_data_obj.get_tracks_data()\n",
    "    test_track_meta_data = test_data_obj.get_tracksMeta_data()    "
   ]
  },
  {
   "cell_type": "markdown",
   "id": "f1e2f348",
   "metadata": {
    "pycharm": {
     "name": "#%% md\n"
    },
    "tags": []
   },
   "source": [
    "### Preprocessing and Downsampling Data to Match Training Dataset"
   ]
  },
  {
   "cell_type": "code",
   "execution_count": 18,
   "id": "f031228c-a865-482f-b7c0-8817820618aa",
   "metadata": {
    "jupyter": {
     "outputs_hidden": false
    },
    "pycharm": {
     "name": "#%%\n"
    }
   },
   "outputs": [],
   "source": [
    "if DATA_DRIVEN_PREDICTION:   \n",
    "    test_pre_process_obj = preProcess()\n",
    "    test_pre_process_obj.tracks_data = test_track_data\n",
    "    test_pre_process_obj.tracks_meta_data = test_track_meta_data\n",
    "    test_pre_process_obj.recording_ids = test_data_obj.recording_id\n",
    "    test_pre_process_obj.data_len = len(test_track_data)\n",
    "    \n",
    "    test_pre_process_obj.frames_skipped = 5\n",
    "    test_track_data_downsampled, test_tracks_meta_data = test_pre_process_obj.get_down_sampled_data()\n",
    "    test_pre_process_obj.tracks_data = test_track_data_downsampled"
   ]
  },
  {
   "cell_type": "markdown",
   "id": "394ae744-5d19-4bc4-a907-467e44fc031f",
   "metadata": {
    "pycharm": {
     "name": "#%% md\n"
    },
    "tags": []
   },
   "source": [
    "### Data Normalization"
   ]
  },
  {
   "cell_type": "code",
   "execution_count": 19,
   "id": "4e355a67-e239-4bd7-966b-818ba3e63cd4",
   "metadata": {
    "jupyter": {
     "outputs_hidden": false
    },
    "pycharm": {
     "name": "#%%\n"
    }
   },
   "outputs": [],
   "source": [
    "if DATA_DRIVEN_PREDICTION:   \n",
    "    # Gets the tracks data normalized\n",
    "    test_tracks_data_norm, min_max_scalar_list = test_pre_process_obj.normalize_data()\n",
    "     # Resetting dropped frames index\n",
    "    test_tracks_data_norm = test_tracks_data_norm.reset_index(drop=True)\n",
    "    \n",
    "    # Saving Normalized Data\n",
    "    test_data_prepare_obj = dataPrepare()\n",
    "    test_data_prepare_obj.tracks_data_norm = test_tracks_data_norm\n",
    "    test_data_prepare_obj.tracksMeta_data = test_tracks_meta_data\n",
    "    test_data_prepare_obj.data_len = len(test_tracks_data_norm)"
   ]
  },
  {
   "cell_type": "markdown",
   "id": "99d070ae-8bdf-47cc-9236-ba1c18fa11f0",
   "metadata": {
    "tags": []
   },
   "source": [
    "### Data Stacking"
   ]
  },
  {
   "cell_type": "code",
   "execution_count": 20,
   "id": "c8b16c8e-3ff9-4101-a1d5-c08956864905",
   "metadata": {
    "pycharm": {
     "name": "#%%\n"
    },
    "tags": []
   },
   "outputs": [
    {
     "name": "stdout",
     "output_type": "stream",
     "text": [
      "This might take a while!\n",
      "Current progress: 0.0 %\n",
      "Current progress: 11.11 %\n",
      "Current progress: 22.22 %\n",
      "Current progress: 33.33 %\n",
      "Current progress: 44.44 %\n",
      "Current progress: 55.56 %\n",
      "Current progress: 66.67 %\n",
      "Current progress: 77.78 %\n",
      "Current progress: 88.89 %\n",
      "Current progress: 100.0 %\n",
      "Done! \n"
     ]
    }
   ],
   "source": [
    "if DATA_DRIVEN_PREDICTION:\n",
    "    # Number for track id to be used\n",
    "    test_data_prepare_obj.track_id_range = 10  \n",
    "    \n",
    "    # Gets the tracks data normalized and its ID\n",
    "    test_data_prepare_obj.data_input = \"normalized_data\"\n",
    "    t_norm_Ids, t_in_norm, t_out_norm = test_data_prepare_obj.data_stacking()\n",
    "    # Predict the output\n",
    "    n_input = np.shape(t_in_norm)[1] * np.shape(t_in_norm)[2]\n",
    "    t_in_norm_reshaped = np.reshape(t_in_norm, (np.shape(t_in_norm)[0], n_input))"
   ]
  },
  {
   "cell_type": "markdown",
   "id": "97db666c",
   "metadata": {
    "pycharm": {
     "name": "#%% md\n"
    }
   },
   "source": [
    "## 6.2 Collect Ground Truth"
   ]
  },
  {
   "cell_type": "markdown",
   "id": "f3c80c63",
   "metadata": {
    "pycharm": {
     "name": "#%% md\n"
    }
   },
   "source": [
    "### 6.2.2 For Data-Driven Prediction Models"
   ]
  },
  {
   "cell_type": "code",
   "execution_count": 21,
   "id": "ebc4f768",
   "metadata": {
    "jupyter": {
     "outputs_hidden": false
    },
    "pycharm": {
     "name": "#%%\n"
    }
   },
   "outputs": [],
   "source": [
    "sys.path.append('evaluation/')\n",
    "from data_driven_pred_evaluator import dataDrivenEvaluation"
   ]
  },
  {
   "cell_type": "code",
   "execution_count": 22,
   "id": "addfc7b3",
   "metadata": {
    "jupyter": {
     "outputs_hidden": false
    },
    "pycharm": {
     "name": "#%%\n"
    }
   },
   "outputs": [],
   "source": [
    "if DATA_DRIVEN_PREDICTION: \n",
    "    data_eval_obj = dataDrivenEvaluation()    "
   ]
  },
  {
   "cell_type": "markdown",
   "id": "e29fc0d8",
   "metadata": {
    "pycharm": {
     "name": "#%% md\n"
    }
   },
   "source": [
    "Get Ground Truth Data Preparation"
   ]
  },
  {
   "cell_type": "code",
   "execution_count": 23,
   "id": "b7b173c5-0514-498d-9126-6dc93924d17e",
   "metadata": {
    "jupyter": {
     "outputs_hidden": false
    },
    "pycharm": {
     "name": "#%%\n"
    }
   },
   "outputs": [
    {
     "name": "stdout",
     "output_type": "stream",
     "text": [
      "This might take a while!\n",
      "Current progress: 0.0 %\n",
      "Current progress: 11.11 %\n",
      "Current progress: 22.22 %\n",
      "Current progress: 33.33 %\n",
      "Current progress: 44.44 %\n",
      "Current progress: 55.56 %\n",
      "Current progress: 66.67 %\n",
      "Current progress: 77.78 %\n",
      "Current progress: 88.89 %\n",
      "Current progress: 100.0 %\n",
      "Done! \n"
     ]
    }
   ],
   "source": [
    "if DATA_DRIVEN_PREDICTION:\n",
    "    # Resetting dropped frames index\n",
    "    test_track_data_downsampled = test_track_data_downsampled.reset_index(drop=True)\n",
    "    ground_truth_prepare_obj = dataPrepare()\n",
    "    ground_truth_prepare_obj.data_input = \"raw_data\"\n",
    "    ground_truth_prepare_obj.track_id_range = 10\n",
    "    ground_truth_prepare_obj.tracksMeta_data = test_tracks_meta_data\n",
    "    ground_truth_prepare_obj.tracks_data_norm = test_tracks_data_norm\n",
    "    ground_truth_prepare_obj.tracks_data = test_track_data_downsampled\n",
    "    ground_truth_prepare_obj.data_len = len(test_track_data_downsampled) \n",
    "    #ground_truth_prepare_obj.num_predict = 15\n",
    "    t_raw_Ids, t_in_raw, t_out_raw = ground_truth_prepare_obj.data_stacking()"
   ]
  },
  {
   "cell_type": "markdown",
   "id": "82bbc450-7e4d-4cd7-b5cb-d81714f12520",
   "metadata": {},
   "source": [
    "Copy ground truth data to data driven evaluator"
   ]
  },
  {
   "cell_type": "code",
   "execution_count": 24,
   "id": "8d3d5ce5-b1bc-4d30-aedd-2247a430db2a",
   "metadata": {},
   "outputs": [],
   "source": [
    "if DATA_DRIVEN_PREDICTION:\n",
    "    data_eval_obj.t_raw_Ids = t_raw_Ids\n",
    "    data_eval_obj.t_in_raw = t_in_raw\n",
    "    data_eval_obj.t_out_raw = t_out_raw"
   ]
  },
  {
   "cell_type": "markdown",
   "id": "b7b15c41-b058-456b-a4c5-d4c3a52e4967",
   "metadata": {},
   "source": [
    "Get Ground Truth"
   ]
  },
  {
   "cell_type": "code",
   "execution_count": 25,
   "id": "f2e4ab5d-cf2e-4077-a11e-87ddcaaa42dd",
   "metadata": {},
   "outputs": [],
   "source": [
    "if DATA_DRIVEN_PREDICTION:\n",
    "    xCenter_gt, yCenter_gt, heading_gt = data_eval_obj.get_ground_truth()"
   ]
  },
  {
   "cell_type": "markdown",
   "id": "00420ed6-beb8-4b9e-9771-05d0f74667d0",
   "metadata": {},
   "source": [
    "Get Predicted Value"
   ]
  },
  {
   "cell_type": "markdown",
   "id": "46b32d89-4e45-42ad-859b-5920f11a0289",
   "metadata": {},
   "source": [
    "Use Predict Function for the Model Created"
   ]
  },
  {
   "cell_type": "code",
   "execution_count": 26,
   "id": "47a99abc-12d6-46a1-947d-3496de21faa8",
   "metadata": {},
   "outputs": [],
   "source": [
    "if DATA_DRIVEN_PREDICTION:\n",
    "    yhat = FCN_model.predict(t_in_norm_reshaped, verbose=0)\n",
    "    \n",
    "    # Save Predicted Data into the Evaluator\n",
    "    data_eval_obj.y_hat = yhat"
   ]
  },
  {
   "cell_type": "code",
   "execution_count": 27,
   "id": "f86d5ba0-f3e5-42fa-aa3f-aafad56d02b6",
   "metadata": {},
   "outputs": [],
   "source": [
    "if DATA_DRIVEN_PREDICTION:\n",
    "    # Set Paramters\n",
    "    data_eval_obj.min_max_scalar_list = min_max_scalar_list\n",
    "    \n",
    "    # Get Prediction\n",
    "    xCenter_prediction, yCenter_prediction, heading_prediction = data_eval_obj.get_prediction()"
   ]
  },
  {
   "cell_type": "markdown",
   "id": "f3729572",
   "metadata": {},
   "source": [
    "Create the file"
   ]
  },
  {
   "cell_type": "code",
   "execution_count": 28,
   "id": "fe67d6e0",
   "metadata": {},
   "outputs": [],
   "source": [
    "if DATA_DRIVEN_PREDICTION:\n",
    "    work_book_filename = 'NN_velocity_prediction_result.xlsx' "
   ]
  },
  {
   "cell_type": "markdown",
   "id": "b3c2eb9c-a12f-4b89-b9c0-bd4dcfd259ad",
   "metadata": {
    "pycharm": {
     "name": "#%% md\n"
    }
   },
   "source": [
    "Delete the File if Exists"
   ]
  },
  {
   "cell_type": "code",
   "execution_count": 29,
   "id": "b19582aa-5fdb-48b5-870b-f1acce5b1548",
   "metadata": {
    "pycharm": {
     "name": "#%%\n"
    },
    "tags": []
   },
   "outputs": [],
   "source": [
    "if DATA_DRIVEN_PREDICTION:\n",
    "    if os.path.exists(work_book_filename):\n",
    "        os.remove(work_book_filename)"
   ]
  },
  {
   "cell_type": "markdown",
   "id": "407accf1-e208-4f51-859d-db26b509d1e4",
   "metadata": {},
   "source": [
    "Write To Workbook (Excel-Sheet)"
   ]
  },
  {
   "cell_type": "code",
   "execution_count": 30,
   "id": "732db8d0-0c47-44e4-ad12-882ad7701df8",
   "metadata": {
    "jupyter": {
     "outputs_hidden": false
    },
    "pycharm": {
     "name": "#%%\n"
    }
   },
   "outputs": [],
   "source": [
    "if DATA_DRIVEN_PREDICTION:\n",
    "    data_eval_obj.wb_filename = work_book_filename\n",
    "    data_eval_obj.write_to_workbook()"
   ]
  },
  {
   "cell_type": "markdown",
   "id": "c1e63ad7-2c0c-4d79-aaaa-2629721f3af0",
   "metadata": {},
   "source": [
    "## 7.0 Evaluation\n",
    "Now it's the moment of truth!! We load the data now from the excel sheet and calculate three error metrics:\n",
    "1. **Average Displacement Error (ADE):** \n",
    "Average Displacement Error (ADE): ADE refers to the mean square error (MSE) over all estimated points of every trajectory and the true points.\n",
    "$$\n",
    "\\text{ADE} = \\frac\n",
    "{\\sum_{i=1}^{n}\\sum_{t=T_{Frame}}^{T_{pred}} \\quad  \\big[(\\hat{x}_i^t - x_i^t)^2 + (\\hat{y}_i^t - y_i^t)^2 \\big]}\n",
    "{n(T_{pred}-(T_{Frame}+1))}\n",
    "$$\n",
    "\n",
    "2. **Final displacement error (FDE):** \n",
    "FDE means the distance between the predicted final destination and the true final destination at the $T_{pred}$ time.\n",
    "$$\n",
    "\\text{FDE} = \\frac\n",
    "{\\sum_{i=1}^n \\sqrt{\\big( \\, \\hat{x}_i^{T_{pred}} - x_i^{T_{pred}} \\, \\,\\big)^2  + \\big( \\, \\hat{y}_i^{T_{pred}} - y_i^{T_{pred}} \\, \\,\\big)^2 }}\n",
    "{n}\n",
    "$$ \n",
    "\n",
    "3. **Average Absolute Heading Error (AHE):** \n",
    "This is a bit like ADE but we take the 1-norm of the error and we only consider the heading prediction here.\n",
    "$$\n",
    "\\text{AHE} = \\frac\n",
    "{\\sum_{i=1}^{n}\\sum_{t=T_{Frame}}^{T_{pred}} \\quad \\big| \\hat{y}_i^t - y_i^t \\big| }\n",
    "{n(T_{pred}-(T_{Frame}+1))}\n",
    "$$"
   ]
  },
  {
   "cell_type": "code",
   "execution_count": 31,
   "id": "6b02d084-29be-4025-9b06-4ce65aac47a3",
   "metadata": {},
   "outputs": [],
   "source": [
    "from evaluation_matrix import evaluationMatrix"
   ]
  },
  {
   "cell_type": "code",
   "execution_count": 32,
   "id": "a161ff03-7bc7-4a19-b0b1-69e1c4d9da86",
   "metadata": {},
   "outputs": [],
   "source": [
    "if DATA_DRIVEN_PREDICTION:\n",
    "    eval_obj = evaluationMatrix(work_book_filename, data_eval_obj.n_predict) "
   ]
  },
  {
   "cell_type": "code",
   "execution_count": 33,
   "id": "f080f04a-b29a-494e-ab2b-a78edcd5a5cc",
   "metadata": {},
   "outputs": [
    {
     "name": "stdout",
     "output_type": "stream",
     "text": [
      "The average displacement error is 3.464 m\n",
      "The average final displacement error is 4.179 m\n",
      "The average absolute heading error is 8.12 degrees\n"
     ]
    }
   ],
   "source": [
    "ade_value, fde_value, ahe_val = eval_obj.get_fde_ade_ahe()"
   ]
  },
  {
   "cell_type": "code",
   "execution_count": null,
   "id": "2de95939-1945-4f7a-a434-e143a274bf67",
   "metadata": {},
   "outputs": [],
   "source": []
  }
 ],
 "metadata": {
  "kernelspec": {
   "display_name": "mlops_env",
   "language": "python",
   "name": "python3"
  },
  "language_info": {
   "codemirror_mode": {
    "name": "ipython",
    "version": 3
   },
   "file_extension": ".py",
   "mimetype": "text/x-python",
   "name": "python",
   "nbconvert_exporter": "python",
   "pygments_lexer": "ipython3",
   "version": "3.11.0"
  }
 },
 "nbformat": 4,
 "nbformat_minor": 5
}
